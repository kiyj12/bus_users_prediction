{
 "cells": [
  {
   "cell_type": "code",
   "execution_count": null,
   "metadata": {},
   "outputs": [],
   "source": [
    "os.mkdir('Ensemble_1')"
   ]
  },
  {
   "cell_type": "code",
   "execution_count": null,
   "metadata": {},
   "outputs": [],
   "source": [
    "source_files = 'C:\\\\Users\\\\yena1\\\\Desktop\\\\3rd_Solution\\\\'\n",
    "destination_folder = 'C:\\\\Users\\\\yena1\\\\Desktop\\\\3rd_Solution\\\\Ensemble_1\\\\'"
   ]
  },
  {
   "cell_type": "code",
   "execution_count": null,
   "metadata": {},
   "outputs": [],
   "source": [
    "shutil.move(source_files + 'lgbm0=229.csv', destination_folder + 'lgbm0=229.csv')\n",
    "shutil.move(source_files + 'rf4=231.csv', destination_folder + 'rf4=231.csv')"
   ]
  },
  {
   "cell_type": "code",
   "execution_count": null,
   "metadata": {},
   "outputs": [],
   "source": [
    "os.mkdir('Ensemble_2')"
   ]
  },
  {
   "cell_type": "code",
   "execution_count": null,
   "metadata": {},
   "outputs": [],
   "source": [
    "source_files = 'C:\\\\Users\\\\yena1\\\\Desktop\\\\3rd_solution\\\\'\n",
    "destination_folder = 'C:\\\\Users\\\\yena1\\\\Desktop\\\\3rd_solution\\\\Ensemble_2\\\\'"
   ]
  },
  {
   "cell_type": "code",
   "execution_count": null,
   "metadata": {},
   "outputs": [],
   "source": [
    "shutil.move(source_files + 'rf1=234.csv', destination_folder + 'rf1=234.csv')\n",
    "shutil.move(source_files + 'rf3=236.csv', destination_folder + 'rf3=236.csv')"
   ]
  },
  {
   "cell_type": "code",
   "execution_count": null,
   "metadata": {},
   "outputs": [],
   "source": [
    "# 사용법: \n",
    "# 1) 스크립트를 실행하기 전에 Ensemble 폴더를 먼저 만듭니다. \n",
    "# 2) 앙상블할 submission 화일을 Ensemble 폴더에 저장합니다.\n",
    "# 3) 실행하면 현재 폴더에 앙상블한 submission 화일이 생성됩니다.\n",
    "\n",
    "# 주) 이 스크립트는 Kaggle Kernel에서 실행할 수 없고 여러분의 Jupyter Notebook에서 실행해야 합니다.\n",
    "\n",
    "import pandas as pd\n",
    "import numpy as np\n",
    "import os\n",
    "\n",
    "folder = 'Ensemble_1'\n",
    "\n",
    "nf = 0\n",
    "for f in os.listdir(folder):\n",
    "    ext = os.path.splitext(f)[-1]\n",
    "    if ext == '.csv': \n",
    "        s = pd.read_csv(folder+\"/\"+f)\n",
    "    else: \n",
    "        continue\n",
    "    if len(s.columns) !=2:\n",
    "        continue\n",
    "    if nf == 0: \n",
    "        slist = s\n",
    "    else: \n",
    "        slist = pd.merge(slist, s, on=\"id\")\n",
    "    nf += 1\n",
    "\n",
    "# 이 파라미터는 멱평균 앙상블에 있어 중요한 수치임. 최적의 수치를 찾기 바랍니다.    \n",
    "p = 21\n",
    "\n",
    "if nf &gt;= 2:\n",
    "    pred = 0\n",
    "    for j in range(nf): pred = pred + slist.iloc[:,j+1]**p \n",
    "    pred = pred / nf    \n",
    "    pred = pred**(1/p)\n",
    "\n",
    "    submit = pd.DataFrame({'id': slist.id, '18~20_ride': pred})\n",
    "    t = pd.Timestamp.now()\n",
    "    fname = \"0+4.csv\"\n",
    "    submit.to_csv(fname, index=False)\n",
    "    \n",
    "    print(fname)"
   ]
  },
  {
   "cell_type": "code",
   "execution_count": null,
   "metadata": {},
   "outputs": [],
   "source": [
    "# 사용법: \n",
    "# 1) 스크립트를 실행하기 전에 Ensemble 폴더를 먼저 만듭니다. \n",
    "# 2) 앙상블할 submission 화일을 Ensemble 폴더에 저장합니다.\n",
    "# 3) 실행하면 현재 폴더에 앙상블한 submission 화일이 생성됩니다.\n",
    "\n",
    "# 주) 이 스크립트는 Kaggle Kernel에서 실행할 수 없고 여러분의 Jupyter Notebook에서 실행해야 합니다.\n",
    "\n",
    "import pandas as pd\n",
    "import numpy as np\n",
    "import os\n",
    "\n",
    "folder = 'Ensemble_2'\n",
    "\n",
    "nf = 0\n",
    "for f in os.listdir(folder):\n",
    "    ext = os.path.splitext(f)[-1]\n",
    "    if ext == '.csv': \n",
    "        s = pd.read_csv(folder+\"/\"+f)\n",
    "    else: \n",
    "        continue\n",
    "    if len(s.columns) !=2:\n",
    "        continue\n",
    "    if nf == 0: \n",
    "        slist = s\n",
    "    else: \n",
    "        slist = pd.merge(slist, s, on=\"id\")\n",
    "    nf += 1\n",
    "\n",
    "# 이 파라미터는 멱평균 앙상블에 있어 중요한 수치임. 최적의 수치를 찾기 바랍니다.    \n",
    "p = 21\n",
    "\n",
    "if nf &gt;= 2:\n",
    "    pred = 0\n",
    "    for j in range(nf): pred = pred + slist.iloc[:,j+1]**p \n",
    "    pred = pred / nf    \n",
    "    pred = pred**(1/p)\n",
    "\n",
    "    submit = pd.DataFrame({'id': slist.id, '18~20_ride': pred})\n",
    "    t = pd.Timestamp.now()\n",
    "    fname = \"1+3.csv\"\n",
    "    submit.to_csv(fname, index=False)\n",
    "    \n",
    "    print(fname)"
   ]
  },
  {
   "cell_type": "code",
   "execution_count": null,
   "metadata": {},
   "outputs": [],
   "source": [
    "first = pd.read_csv('0+4.csv')\n",
    "second = pd.read_csv('1+3.csv')\n",
    "third = pd.read_csv('rf2=238.csv')"
   ]
  },
  {
   "cell_type": "code",
   "execution_count": null,
   "metadata": {},
   "outputs": [],
   "source": [
    "target = '18~20_ride'\n",
    "\n",
    "w1, w2, w3 = 0.22, 0.30, 0.48"
   ]
  },
  {
   "cell_type": "code",
   "execution_count": null,
   "metadata": {},
   "outputs": [],
   "source": [
    "W = w1*first[target] + w2*second[target] + w3*third[target]"
   ]
  }
 ],
 "metadata": {
  "kernelspec": {
   "display_name": "Python 3",
   "language": "python",
   "name": "python3"
  },
  "language_info": {
   "codemirror_mode": {
    "name": "ipython",
    "version": 3
   },
   "file_extension": ".py",
   "mimetype": "text/x-python",
   "name": "python",
   "nbconvert_exporter": "python",
   "pygments_lexer": "ipython3",
   "version": "3.8.3"
  }
 },
 "nbformat": 4,
 "nbformat_minor": 4
}
